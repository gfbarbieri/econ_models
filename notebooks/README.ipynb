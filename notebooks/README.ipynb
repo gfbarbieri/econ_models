{
 "cells": [
  {
   "cell_type": "markdown",
   "metadata": {},
   "source": [
    "# Overview\n",
    "\n",
    "Econpy is an open source library for exploring the core concepts of economics. The framework integrates a market structure with market actors and their decision functions. The module is built on top of Sympy, allowing symbolic logic for generalized examples as well as numeric examples.\n",
    "\n",
    "## Included Models:\n",
    "1. Monopoly model."
   ]
  },
  {
   "cell_type": "markdown",
   "metadata": {},
   "source": [
    "## Example Usage"
   ]
  },
  {
   "cell_type": "markdown",
   "metadata": {},
   "source": [
    "Import the class."
   ]
  },
  {
   "cell_type": "code",
   "execution_count": 1,
   "metadata": {},
   "outputs": [],
   "source": [
    "from monopolist.monopolist import Monopolist"
   ]
  },
  {
   "cell_type": "markdown",
   "metadata": {},
   "source": [
    "Instantiate the class."
   ]
  },
  {
   "cell_type": "code",
   "execution_count": 2,
   "metadata": {
    "cell_id": "99b8e8089d3e45eeaf4c34f04237504d",
    "deepnote_cell_type": "code",
    "deepnote_to_be_reexecuted": false,
    "execution_millis": 63,
    "execution_start": 1675250869538,
    "source_hash": "be4afa38",
    "tags": []
   },
   "outputs": [],
   "source": [
    "firm = Monopolist()"
   ]
  },
  {
   "cell_type": "markdown",
   "metadata": {},
   "source": [
    "Print the total revenue and total cost functions."
   ]
  },
  {
   "cell_type": "code",
   "execution_count": 3,
   "metadata": {},
   "outputs": [
    {
     "name": "stdout",
     "output_type": "stream",
     "text": [
      "p*q\n",
      "c*q\n"
     ]
    }
   ],
   "source": [
    "print(firm.get_total_revenue())\n",
    "print(firm.get_total_cost())"
   ]
  },
  {
   "cell_type": "markdown",
   "metadata": {},
   "source": [
    "Print generalized profit function."
   ]
  },
  {
   "cell_type": "code",
   "execution_count": 4,
   "metadata": {
    "cell_id": "4fed3be8bf884221b7ed52dbeedba85a",
    "deepnote_cell_type": "code",
    "deepnote_to_be_reexecuted": false,
    "execution_millis": 3,
    "execution_start": 1675250871697,
    "source_hash": "fd890944",
    "tags": []
   },
   "outputs": [
    {
     "name": "stdout",
     "output_type": "stream",
     "text": [
      "-c*q + p*q\n"
     ]
    }
   ],
   "source": [
    "print(firm.get_profit())"
   ]
  },
  {
   "cell_type": "markdown",
   "metadata": {},
   "source": [
    "Print the demand function with quantity as a function of price Q(P), and price as a function of quantity P(Q)."
   ]
  },
  {
   "cell_type": "code",
   "execution_count": 5,
   "metadata": {
    "cell_id": "ea470079287b418a8d26d82fefcbe484",
    "deepnote_cell_type": "code",
    "deepnote_to_be_reexecuted": false,
    "execution_millis": 350,
    "execution_start": 1675250872784,
    "source_hash": "2ada1770",
    "tags": []
   },
   "outputs": [
    {
     "name": "stdout",
     "output_type": "stream",
     "text": [
      "(a - p)/b\n",
      "a - b*q\n"
     ]
    }
   ],
   "source": [
    "print(firm.get_demand(inverse=False))\n",
    "print(firm.get_demand(inverse=True))"
   ]
  },
  {
   "cell_type": "markdown",
   "metadata": {},
   "source": [
    "Print the total revenue function where P is substituted with the inverse demand function."
   ]
  },
  {
   "cell_type": "code",
   "execution_count": 6,
   "metadata": {
    "cell_id": "c0e2fbcc9b4446eba9a582dfe23ba099",
    "deepnote_cell_type": "code",
    "deepnote_to_be_reexecuted": false,
    "execution_millis": 15,
    "execution_start": 1675250874807,
    "source_hash": "a38a5564",
    "tags": []
   },
   "outputs": [
    {
     "name": "stdout",
     "output_type": "stream",
     "text": [
      "q*(a - b*q)\n"
     ]
    }
   ],
   "source": [
    "print(firm.get_total_revenue(p=firm.get_demand(inverse=True)))"
   ]
  },
  {
   "cell_type": "markdown",
   "metadata": {},
   "source": [
    "Print marginal revenue and marginal cost functions where P is substituted with the inverse demand function."
   ]
  },
  {
   "cell_type": "code",
   "execution_count": 7,
   "metadata": {},
   "outputs": [
    {
     "name": "stdout",
     "output_type": "stream",
     "text": [
      "a - 2*b*q\n",
      "c\n"
     ]
    }
   ],
   "source": [
    "print(firm.get_marginal_revenue(p=firm.get_demand(inverse=True)))\n",
    "print(firm.get_marginal_cost())"
   ]
  },
  {
   "cell_type": "markdown",
   "metadata": {},
   "source": [
    "Print the generalized profit function where P is substituted with the inverse demand function."
   ]
  },
  {
   "cell_type": "code",
   "execution_count": 8,
   "metadata": {},
   "outputs": [
    {
     "name": "stdout",
     "output_type": "stream",
     "text": [
      "-c*q + q*(a - b*q)\n"
     ]
    }
   ],
   "source": [
    "print(firm.get_profit(p=firm.get_demand(inverse=True)))"
   ]
  },
  {
   "cell_type": "markdown",
   "metadata": {},
   "source": [
    "Find the firm's price elasticity of demand at any price and quantity."
   ]
  },
  {
   "cell_type": "code",
   "execution_count": 9,
   "metadata": {
    "cell_id": "a65ab6cfe72647e5835d4ffeb5cd5aae",
    "deepnote_cell_type": "code",
    "deepnote_to_be_reexecuted": false,
    "execution_millis": 12,
    "execution_start": 1675250876571,
    "source_hash": "2623faf1",
    "tags": []
   },
   "outputs": [
    {
     "name": "stdout",
     "output_type": "stream",
     "text": [
      "-p_0/(b*q_0)\n"
     ]
    }
   ],
   "source": [
    "print(firm.price_elasticity())"
   ]
  },
  {
   "cell_type": "markdown",
   "metadata": {},
   "source": [
    "Find the profit maximizing price, quantity, and maximum profit."
   ]
  },
  {
   "cell_type": "code",
   "execution_count": 10,
   "metadata": {
    "cell_id": "0ad8f37f38854c96a032d39da7d1275d",
    "deepnote_cell_type": "code",
    "deepnote_to_be_reexecuted": false,
    "execution_millis": 5,
    "execution_start": 1675250875796,
    "source_hash": "4d7d2ea1",
    "tags": []
   },
   "outputs": [
    {
     "name": "stdout",
     "output_type": "stream",
     "text": [
      "(a/2 + c/2, (a - c)/(2*b), -c*(a - c)/(2*b) + (a/2 + c/2)*(a - c)/(2*b))\n"
     ]
    }
   ],
   "source": [
    "print(firm.profit_maximization())"
   ]
  },
  {
   "cell_type": "markdown",
   "metadata": {},
   "source": [
    "Find the firm's price elasticity of demand at the profit maximizing price and quantity."
   ]
  },
  {
   "cell_type": "code",
   "execution_count": 11,
   "metadata": {
    "cell_id": "f0d7e96b7d004314bcf9b49dd859ea83",
    "deepnote_cell_type": "code",
    "deepnote_to_be_reexecuted": false,
    "execution_millis": 52,
    "execution_start": 1675250878233,
    "source_hash": "ed4187f1",
    "tags": []
   },
   "outputs": [
    {
     "name": "stdout",
     "output_type": "stream",
     "text": [
      "(-a - c)/(a - c)\n"
     ]
    }
   ],
   "source": [
    "p, q, profit = firm.profit_maximization()\n",
    "\n",
    "print(firm.price_elasticity(p_0=p, q_0=q).simplify())"
   ]
  },
  {
   "cell_type": "markdown",
   "metadata": {},
   "source": [
    "Market demand functions take the form of $P = a - b*Q$. Cost functions take the form of $TC = c*Q$. Set parameters for market demand and cost functions of a = 100, b = 1, and c = 25."
   ]
  },
  {
   "cell_type": "code",
   "execution_count": 12,
   "metadata": {},
   "outputs": [],
   "source": [
    "firm = Monopolist(a=100, b=1, c=25)"
   ]
  },
  {
   "cell_type": "markdown",
   "metadata": {},
   "source": [
    "Find profit maximizing price, quantity, maximum profit, and elasticity at the profit maximizing price and quantity."
   ]
  },
  {
   "cell_type": "code",
   "execution_count": 13,
   "metadata": {},
   "outputs": [
    {
     "name": "stdout",
     "output_type": "stream",
     "text": [
      "The profit maximizing price per unit is 62.5000000000000.\n",
      "The profit maximizing quantity produced is 37.5000000000000.\n",
      "The firm's total profit is 1406.25000000000.\n",
      "The price elasticity of demand at the profit maximizing price and quantity is -5/3.\n"
     ]
    }
   ],
   "source": [
    "p, q, profit = firm.profit_maximization()\n",
    "\n",
    "print(f\"The profit maximizing price per unit is {p.evalf()}.\")\n",
    "print(f\"The profit maximizing quantity produced is {q.evalf()}.\")\n",
    "print(f\"The firm's total profit is {profit.evalf()}.\")\n",
    "print(f\"The price elasticity of demand at the profit maximizing price and quantity is {firm.price_elasticity(p_0=p, q_0=q)}.\")"
   ]
  }
 ],
 "metadata": {
  "deepnote": {
   "is_reactive": false
  },
  "deepnote_execution_queue": [],
  "deepnote_notebook_id": "bd6400bbea8f45f794454747389d0c8b",
  "deepnote_persisted_session": {
   "createdAt": "2023-02-01T11:00:07.358Z"
  },
  "kernelspec": {
   "display_name": "Python 3 (ipykernel)",
   "language": "python",
   "name": "python3"
  },
  "language_info": {
   "codemirror_mode": {
    "name": "ipython",
    "version": 3
   },
   "file_extension": ".py",
   "mimetype": "text/x-python",
   "name": "python",
   "nbconvert_exporter": "python",
   "pygments_lexer": "ipython3",
   "version": "3.9.13 (main, Aug 25 2022, 18:29:29) \n[Clang 12.0.0 ]"
  },
  "vscode": {
   "interpreter": {
    "hash": "9e31117a1847b01258c2b1d2d9a0bafd8d45f8df89f78d88db28ebb4a817b2d1"
   }
  }
 },
 "nbformat": 4,
 "nbformat_minor": 1
}
