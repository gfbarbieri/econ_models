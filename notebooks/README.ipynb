{
 "cells": [
  {
   "cell_type": "markdown",
   "metadata": {},
   "source": [
    "# Overview\n",
    "\n",
    "Econmodels is an open source library for exploring the core concepts of economics. The framework integrates a market structure with market actors and their decision functions. The module is built on top of Sympy, allowing symbolic logic for generalized examples as well as numeric examples."
   ]
  },
  {
   "cell_type": "markdown",
   "metadata": {},
   "source": [
    "## Example Using Functional Forms\n",
    "\n",
    "Functional forms of common mathematical functions used in economics are avaialble, including Cobb-Douglas and CES functions. There is no particular limit on what other functional forms can be added to the list."
   ]
  },
  {
   "cell_type": "markdown",
   "metadata": {},
   "source": [
    "Import `Utility` which gives you access to several fucntional forms of utility functions, including Cobb-Douglas, substitutes, complements, CES, and quasi-linear."
   ]
  },
  {
   "cell_type": "code",
   "execution_count": 1,
   "metadata": {},
   "outputs": [],
   "source": [
    "from econmodels.functional_forms.utility import Utility"
   ]
  },
  {
   "cell_type": "markdown",
   "metadata": {},
   "source": [
    "Instantiate the `Utility` class with the functional form of a Cobb-Douglas function."
   ]
  },
  {
   "cell_type": "code",
   "execution_count": 2,
   "metadata": {
    "cell_id": "99b8e8089d3e45eeaf4c34f04237504d",
    "deepnote_cell_type": "code",
    "deepnote_to_be_reexecuted": false,
    "execution_millis": 63,
    "execution_start": 1675250869538,
    "source_hash": "be4afa38",
    "tags": []
   },
   "outputs": [],
   "source": [
    "utility = Utility(func_form='cobb-douglas')"
   ]
  },
  {
   "cell_type": "markdown",
   "metadata": {},
   "source": [
    "Print the utility function."
   ]
  },
  {
   "cell_type": "code",
   "execution_count": 3,
   "metadata": {},
   "outputs": [
    {
     "data": {
      "text/latex": [
       "$\\displaystyle C - U + {\\beta}_{0} {\\beta}_{1} {x}_{0}^{{\\alpha}_{0}} {x}_{1}^{{\\alpha}_{1}}$"
      ],
      "text/plain": [
       "C - U + beta[0]*beta[1]*x[0]**alpha[0]*x[1]**alpha[1]"
      ]
     },
     "execution_count": 3,
     "metadata": {},
     "output_type": "execute_result"
    }
   ],
   "source": [
    "utility.function"
   ]
  },
  {
   "cell_type": "markdown",
   "metadata": {},
   "source": [
    "Print the symbols available."
   ]
  },
  {
   "cell_type": "code",
   "execution_count": 4,
   "metadata": {},
   "outputs": [
    {
     "data": {
      "text/plain": [
       "{'coefficient': beta,\n",
       " 'constant': C,\n",
       " 'dependent': U,\n",
       " 'exponent': alpha,\n",
       " 'i': i,\n",
       " 'input': x}"
      ]
     },
     "execution_count": 4,
     "metadata": {},
     "output_type": "execute_result"
    }
   ],
   "source": [
    "utility.symboldict"
   ]
  },
  {
   "cell_type": "markdown",
   "metadata": {},
   "source": [
    "Print marginal utility of $x_0$, $\\frac{\\partial U}{\\partial x_0}$."
   ]
  },
  {
   "cell_type": "code",
   "execution_count": 6,
   "metadata": {},
   "outputs": [
    {
     "data": {
      "text/latex": [
       "$\\displaystyle {\\alpha}_{0} {\\beta}_{0} {\\beta}_{1} {x}_{0}^{{\\alpha}_{0} - 1} {x}_{1}^{{\\alpha}_{1}}$"
      ],
      "text/plain": [
       "alpha[0]*beta[0]*beta[1]*x[0]**(alpha[0] - 1)*x[1]**alpha[1]"
      ]
     },
     "execution_count": 6,
     "metadata": {},
     "output_type": "execute_result"
    }
   ],
   "source": [
    "utility.marginal_utility(indx=0).simplify()"
   ]
  },
  {
   "cell_type": "markdown",
   "metadata": {},
   "source": [
    "Get total utility by substituting values for the goods."
   ]
  },
  {
   "cell_type": "code",
   "execution_count": 17,
   "metadata": {},
   "outputs": [
    {
     "data": {
      "text/latex": [
       "$\\displaystyle 4^{{\\alpha}_{1}} {\\beta}_{0} {\\beta}_{1} + 1$"
      ],
      "text/plain": [
       "4**alpha[1]*beta[0]*beta[1] + 1"
      ]
     },
     "execution_count": 17,
     "metadata": {},
     "output_type": "execute_result"
    }
   ],
   "source": [
    "utility.get_utility(input_values=[1,4], constant=None)"
   ]
  },
  {
   "cell_type": "markdown",
   "metadata": {},
   "source": [
    "## Example using Agents\n",
    "\n",
    "Agents are usually a combination of a objective function and a constriant function. Agents are also usually given additional methods to maximize the objective given constraints."
   ]
  },
  {
   "cell_type": "markdown",
   "metadata": {},
   "source": [
    "Import the agent `Consumer`, which is a combination of a utility function and a budget constraint. "
   ]
  },
  {
   "cell_type": "code",
   "execution_count": 7,
   "metadata": {},
   "outputs": [],
   "source": [
    "from econmodels.agents.consumer import Consumer"
   ]
  },
  {
   "cell_type": "markdown",
   "metadata": {},
   "source": [
    "Instantiate the `Consumer` class."
   ]
  },
  {
   "cell_type": "code",
   "execution_count": 8,
   "metadata": {},
   "outputs": [],
   "source": [
    "consumer = Consumer()"
   ]
  },
  {
   "cell_type": "markdown",
   "metadata": {},
   "source": [
    "Print the consumers property `utility`. The default utility function is a Cobb-Douglas utility with two goods."
   ]
  },
  {
   "cell_type": "code",
   "execution_count": 9,
   "metadata": {},
   "outputs": [
    {
     "data": {
      "text/latex": [
       "$\\displaystyle C - U + {\\beta}_{0} {\\beta}_{1} {x}_{0}^{{\\alpha}_{0}} {x}_{1}^{{\\alpha}_{1}}$"
      ],
      "text/plain": [
       "C - U + beta[0]*beta[1]*x[0]**alpha[0]*x[1]**alpha[1]"
      ]
     },
     "execution_count": 9,
     "metadata": {},
     "output_type": "execute_result"
    }
   ],
   "source": [
    "consumer.utility.function"
   ]
  },
  {
   "cell_type": "markdown",
   "metadata": {},
   "source": [
    "Print the consumers property `budget_constraint`."
   ]
  },
  {
   "cell_type": "code",
   "execution_count": 11,
   "metadata": {},
   "outputs": [
    {
     "data": {
      "text/latex": [
       "$\\displaystyle B - M + {p_{}}_{0} {x}_{0} + {p_{}}_{1} {x}_{1}$"
      ],
      "text/plain": [
       "B - M + p_[0]*x[0] + p_[1]*x[1]"
      ]
     },
     "execution_count": 11,
     "metadata": {},
     "output_type": "execute_result"
    }
   ],
   "source": [
    "consumer.constraint.function"
   ]
  },
  {
   "cell_type": "markdown",
   "metadata": {},
   "source": [
    "Maximize utility given the budget constraint. The result populates the property `opt_values_dict`."
   ]
  },
  {
   "cell_type": "code",
   "execution_count": 13,
   "metadata": {},
   "outputs": [],
   "source": [
    "consumer.maximize_utility()"
   ]
  },
  {
   "cell_type": "markdown",
   "metadata": {},
   "source": [
    "Print optimal values dictionary."
   ]
  },
  {
   "cell_type": "code",
   "execution_count": 14,
   "metadata": {},
   "outputs": [
    {
     "data": {
      "text/plain": [
       "{x[0]: (-B + M)*alpha[0]/((alpha[0] + alpha[1])*p_[0]),\n",
       " lambda: ((-B + M)*alpha[0]/((alpha[0] + alpha[1])*p_[0]))**alpha[0]*((-B + M)*alpha[1]/((alpha[0] + alpha[1])*p_[1]))**alpha[1]*(alpha[0] + alpha[1])*beta[0]*beta[1]/(B - M),\n",
       " x[1]: (-B + M)*alpha[1]/((alpha[0] + alpha[1])*p_[1])}"
      ]
     },
     "execution_count": 14,
     "metadata": {},
     "output_type": "execute_result"
    }
   ],
   "source": [
    "consumer.opt_values_dict"
   ]
  },
  {
   "cell_type": "markdown",
   "metadata": {},
   "source": [
    "Show the demand for input $x_0$ as a homogenous equation."
   ]
  },
  {
   "cell_type": "code",
   "execution_count": 15,
   "metadata": {},
   "outputs": [
    {
     "data": {
      "text/latex": [
       "$\\displaystyle \\frac{\\left(- B + M\\right) {\\alpha}_{0}}{\\left({\\alpha}_{0} + {\\alpha}_{1}\\right) {p_{}}_{0}} - {x}_{0}$"
      ],
      "text/plain": [
       "(-B + M)*alpha[0]/((alpha[0] + alpha[1])*p_[0]) - x[0]"
      ]
     },
     "execution_count": 15,
     "metadata": {},
     "output_type": "execute_result"
    }
   ],
   "source": [
    "consumer.get_demand(index=0)"
   ]
  }
 ],
 "metadata": {
  "deepnote": {
   "is_reactive": false
  },
  "deepnote_execution_queue": [],
  "deepnote_notebook_id": "bd6400bbea8f45f794454747389d0c8b",
  "deepnote_persisted_session": {
   "createdAt": "2023-02-01T11:00:07.358Z"
  },
  "kernelspec": {
   "display_name": "Python 3 (ipykernel)",
   "language": "python",
   "name": "python3"
  },
  "language_info": {
   "codemirror_mode": {
    "name": "ipython",
    "version": 3
   },
   "file_extension": ".py",
   "mimetype": "text/x-python",
   "name": "python",
   "nbconvert_exporter": "python",
   "pygments_lexer": "ipython3",
   "version": "3.9.13"
  },
  "vscode": {
   "interpreter": {
    "hash": "9e31117a1847b01258c2b1d2d9a0bafd8d45f8df89f78d88db28ebb4a817b2d1"
   }
  }
 },
 "nbformat": 4,
 "nbformat_minor": 1
}
