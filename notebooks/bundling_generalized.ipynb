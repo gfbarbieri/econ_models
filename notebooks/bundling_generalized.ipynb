{
 "cells": [
  {
   "attachments": {},
   "cell_type": "markdown",
   "metadata": {},
   "source": [
    "Include new demand functions in monopolist to perform generalized bundling problems. Multiple goods are defined as a combined good and therefore a combined demand function. In the future: expand monopolist to include multiple goods in one market or multiple markets for the same good."
   ]
  },
  {
   "cell_type": "code",
   "execution_count": 1,
   "metadata": {},
   "outputs": [],
   "source": [
    "import sympy as sp"
   ]
  },
  {
   "attachments": {},
   "cell_type": "markdown",
   "metadata": {},
   "source": [
    "Incumbent, bundling, profit maximizing with no entry"
   ]
  },
  {
   "cell_type": "code",
   "execution_count": 2,
   "metadata": {},
   "outputs": [],
   "source": [
    "q_I, p_I = sp.symbols('q_I p_I', positive=True)"
   ]
  },
  {
   "cell_type": "code",
   "execution_count": 3,
   "metadata": {},
   "outputs": [
    {
     "data": {
      "text/latex": [
       "$\\displaystyle - \\frac{p_{I}^{2}}{2} - q_{I} + 1$"
      ],
      "text/plain": [
       "-p_I**2/2 - q_I + 1"
      ]
     },
     "execution_count": 3,
     "metadata": {},
     "output_type": "execute_result"
    }
   ],
   "source": [
    "demand = 1 - p_I**2/2 - q_I\n",
    "demand"
   ]
  },
  {
   "cell_type": "code",
   "execution_count": 4,
   "metadata": {},
   "outputs": [
    {
     "data": {
      "text/latex": [
       "$\\displaystyle p_{I} \\left(1 - \\frac{p_{I}^{2}}{2}\\right)$"
      ],
      "text/plain": [
       "p_I*(1 - p_I**2/2)"
      ]
     },
     "execution_count": 4,
     "metadata": {},
     "output_type": "execute_result"
    }
   ],
   "source": [
    "prof_I = sp.solve(demand, q_I)[0] * p_I\n",
    "prof_I"
   ]
  },
  {
   "cell_type": "code",
   "execution_count": 5,
   "metadata": {},
   "outputs": [
    {
     "data": {
      "text/latex": [
       "$\\displaystyle 1 - \\frac{3 p_{I}^{2}}{2}$"
      ],
      "text/plain": [
       "1 - 3*p_I**2/2"
      ]
     },
     "execution_count": 5,
     "metadata": {},
     "output_type": "execute_result"
    }
   ],
   "source": [
    "foc_I = sp.diff(prof_I, p_I)\n",
    "foc_I"
   ]
  },
  {
   "cell_type": "code",
   "execution_count": 6,
   "metadata": {},
   "outputs": [
    {
     "data": {
      "text/latex": [
       "$\\displaystyle 0.816496580927726$"
      ],
      "text/plain": [
       "0.816496580927726"
      ]
     },
     "execution_count": 6,
     "metadata": {},
     "output_type": "execute_result"
    }
   ],
   "source": [
    "p_I_m = sp.solve(foc_I, p_I)[0]\n",
    "sp.N(p_I_m)"
   ]
  },
  {
   "cell_type": "code",
   "execution_count": 7,
   "metadata": {},
   "outputs": [
    {
     "data": {
      "text/latex": [
       "$\\displaystyle 0.666666666666667$"
      ],
      "text/plain": [
       "0.666666666666667"
      ]
     },
     "execution_count": 7,
     "metadata": {},
     "output_type": "execute_result"
    }
   ],
   "source": [
    "q_I_m = (sp.solve(demand, q_I)[0]).subs(p_I, p_I_m)\n",
    "sp.N(q_I_m)"
   ]
  },
  {
   "cell_type": "code",
   "execution_count": 8,
   "metadata": {},
   "outputs": [
    {
     "data": {
      "text/latex": [
       "$\\displaystyle 0.544331053951817$"
      ],
      "text/plain": [
       "0.544331053951817"
      ]
     },
     "execution_count": 8,
     "metadata": {},
     "output_type": "execute_result"
    }
   ],
   "source": [
    "prof_m = p_I_m * (q_I_m)\n",
    "sp.N(prof_m)"
   ]
  },
  {
   "attachments": {},
   "cell_type": "markdown",
   "metadata": {},
   "source": [
    "Entrant see's profit maximizing price and quantity, wants in."
   ]
  },
  {
   "cell_type": "code",
   "execution_count": 9,
   "metadata": {},
   "outputs": [],
   "source": [
    "p_e, E = sp.symbols('p_e E', positive=True)"
   ]
  },
  {
   "cell_type": "code",
   "execution_count": 10,
   "metadata": {},
   "outputs": [
    {
     "data": {
      "text/latex": [
       "$\\displaystyle \\left(1 - p_{e}\\right) \\left(p_{I} - p_{e}\\right)$"
      ],
      "text/plain": [
       "(1 - p_e)*(p_I - p_e)"
      ]
     },
     "execution_count": 10,
     "metadata": {},
     "output_type": "execute_result"
    }
   ],
   "source": [
    "q_e = (1-p_e)*(p_I-p_e)\n",
    "q_e"
   ]
  },
  {
   "cell_type": "code",
   "execution_count": 11,
   "metadata": {},
   "outputs": [
    {
     "data": {
      "text/latex": [
       "$\\displaystyle - E + p_{e} \\left(1 - p_{e}\\right) \\left(p_{I} - p_{e}\\right)$"
      ],
      "text/plain": [
       "-E + p_e*(1 - p_e)*(p_I - p_e)"
      ]
     },
     "execution_count": 11,
     "metadata": {},
     "output_type": "execute_result"
    }
   ],
   "source": [
    "prof_e = p_e*q_e - E\n",
    "prof_e"
   ]
  },
  {
   "cell_type": "code",
   "execution_count": 12,
   "metadata": {},
   "outputs": [
    {
     "data": {
      "text/latex": [
       "$\\displaystyle - p_{e} \\left(1 - p_{e}\\right) - p_{e} \\left(p_{I} - p_{e}\\right) + \\left(1 - p_{e}\\right) \\left(p_{I} - p_{e}\\right)$"
      ],
      "text/plain": [
       "-p_e*(1 - p_e) - p_e*(p_I - p_e) + (1 - p_e)*(p_I - p_e)"
      ]
     },
     "execution_count": 12,
     "metadata": {},
     "output_type": "execute_result"
    }
   ],
   "source": [
    "foc_e = sp.diff(prof_e, p_e)\n",
    "foc_e"
   ]
  },
  {
   "cell_type": "code",
   "execution_count": 13,
   "metadata": {},
   "outputs": [
    {
     "data": {
      "text/latex": [
       "$\\displaystyle \\frac{p_{I}}{3} - \\frac{\\sqrt{p_{I}^{2} - p_{I} + 1}}{3} + \\frac{1}{3}$"
      ],
      "text/plain": [
       "p_I/3 - sqrt(p_I**2 - p_I + 1)/3 + 1/3"
      ]
     },
     "execution_count": 13,
     "metadata": {},
     "output_type": "execute_result"
    }
   ],
   "source": [
    "# Choose the first here, since it's a quadratic equation.\n",
    "p_e_m = sp.solve(foc_e, p_e)[0]\n",
    "p_e_m"
   ]
  },
  {
   "cell_type": "code",
   "execution_count": 14,
   "metadata": {},
   "outputs": [
    {
     "data": {
      "text/latex": [
       "$\\displaystyle \\left(- \\frac{p_{I}}{3} + \\frac{\\sqrt{p_{I}^{2} - p_{I} + 1}}{3} + \\frac{2}{3}\\right) \\left(\\frac{2 p_{I}}{3} + \\frac{\\sqrt{p_{I}^{2} - p_{I} + 1}}{3} - \\frac{1}{3}\\right)$"
      ],
      "text/plain": [
       "(-p_I/3 + sqrt(p_I**2 - p_I + 1)/3 + 2/3)*(2*p_I/3 + sqrt(p_I**2 - p_I + 1)/3 - 1/3)"
      ]
     },
     "execution_count": 14,
     "metadata": {},
     "output_type": "execute_result"
    }
   ],
   "source": [
    "q_e_m = q_e.subs(p_e, p_e_m)\n",
    "q_e_m"
   ]
  },
  {
   "cell_type": "code",
   "execution_count": 37,
   "metadata": {},
   "outputs": [
    {
     "data": {
      "text/latex": [
       "$\\displaystyle - E + \\left(- \\frac{1}{3} + \\frac{\\sqrt{\\frac{5}{3} - \\frac{\\sqrt{6}}{3}}}{3} + \\frac{2 \\sqrt{6}}{9}\\right) \\left(- \\frac{\\sqrt{6}}{9} + \\frac{\\sqrt{\\frac{5}{3} - \\frac{\\sqrt{6}}{3}}}{3} + \\frac{2}{3}\\right) \\left(- \\frac{\\sqrt{\\frac{5}{3} - \\frac{\\sqrt{6}}{3}}}{3} + \\frac{\\sqrt{6}}{9} + \\frac{1}{3}\\right)$"
      ],
      "text/plain": [
       "-E + (-1/3 + sqrt(5/3 - sqrt(6)/3)/3 + 2*sqrt(6)/9)*(-sqrt(6)/9 + sqrt(5/3 - sqrt(6)/3)/3 + 2/3)*(-sqrt(5/3 - sqrt(6)/3)/3 + sqrt(6)/9 + 1/3)"
      ]
     },
     "execution_count": 37,
     "metadata": {},
     "output_type": "execute_result"
    }
   ],
   "source": [
    "prof_e_m = prof_e.subs([(p_e, p_e_m.subs(p_I, p_I_m)), (p_I, p_I_m)])\n",
    "prof_e_m"
   ]
  },
  {
   "attachments": {},
   "cell_type": "markdown",
   "metadata": {},
   "source": [
    "Example straight from the paper.\n",
    "\n",
    "Incumbent price is 0.80, so quantity is 1 - 0.80^2/2, profit is 0.80*(1-0.80^2/2)"
   ]
  },
  {
   "cell_type": "code",
   "execution_count": 110,
   "metadata": {},
   "outputs": [
    {
     "name": "stdout",
     "output_type": "stream",
     "text": [
      "Incumbent, no Entry: 0.816496580927726 0.666666666666667 0.544331053951817\n",
      "Entrant, potential: 0.298149965956452 0.363801589363946 0.108467431483764 - E\n",
      "0.134341606626089 0.134341606626089 0.190236752223537 0.363801589363946 0.437206683928809\n",
      "Incumbent profit, with entry: 0.356977762586622\n"
     ]
    }
   ],
   "source": [
    "# Incumbent\n",
    "p_I_EX = p_I_m\n",
    "q_I_EX = sp.solve(demand, q_I)[0].subs(p_I, p_I_EX)\n",
    "prof_I_EX = p_I_EX*q_I_EX\n",
    "print(\"Incumbent, no Entry:\", sp.N(p_I_EX), sp.N(q_I_EX), sp.N(prof_I_EX))\n",
    "\n",
    "# From the example above, the Entrant will do the following:\n",
    "p_e_EX = p_e_m.subs(p_I, p_I_EX)\n",
    "q_e_EX = q_e_m.subs(p_I, p_I_EX)\n",
    "prof_e_EX = p_e_EX*q_e_EX - E\n",
    "print(\"Entrant, potential:\", sp.N(p_e_EX), sp.N(q_e_EX), sp.N(prof_e_EX))\n",
    "\n",
    "# Incumbents quantity sold is lowered at their price with entry, so profits fall.\n",
    "# How much do they lose?\n",
    "e_1 = (p_I_EX - p_e_EX)*(p_I_EX - p_e_EX)*(1/2)\n",
    "e_2 = (p_I_EX - p_e_EX)*(p_I_EX - p_e_EX) - e_1\n",
    "e_3 = (1 - p_I_EX)*(p_I_EX - p_e_EX)\n",
    "\n",
    "print(sp.N(e_1), sp.N(e_2), sp.N(e_3 + e_3), sp.N(e_1 + e_2 + e_3), sp.N(q_I_EX - (e_2 + e_3)))\n",
    "\n",
    "print(\"Incumbent profit, with entry:\", sp.N(p_I_EX*(q_I_EX - (e_2 + e_3))))"
   ]
  },
  {
   "cell_type": "code",
   "execution_count": 147,
   "metadata": {},
   "outputs": [
    {
     "name": "stdout",
     "output_type": "stream",
     "text": [
      "0.681452653307495 0.548832120917914 0.374003105019893\n"
     ]
    }
   ],
   "source": [
    "# Reoptimmize and find the profit maximizing price, quantity, and profit.\n",
    "\n",
    "# d_2 = 1 - (p_I**2)/2 - ((p_I - p_e)**2)/2 - (1-p_I)*(p_I-p_e) - q_I\n",
    "# d_2 = 1 - (p_I**2)/2 - ((p_I - p_e)*(p_I - p_e) - (p_I - p_e)*(p_I - p_e)*(1/2) + (1 - p_I)*(p_I - p_e)) - q_I\n",
    "d_2 = 1 - (p_I**2)/2 - ((p_I - p_e_m)*(p_I - p_e_m) - (p_I - p_e_m)*(p_I - p_e_m)*(1/2) + (1 - p_I)*(p_I - p_e_m)) - q_I\n",
    "q_I_2 = sp.solve(d_2, q_I)[0]\n",
    "prof_I_2 = q_I_2*p_I\n",
    "foc_I_2 = sp.diff(prof_I_2, p_I)\n",
    "\n",
    "# Incumbent outcomes with entry.\n",
    "p_I_m_2 = sp.solve(foc_I_2, p_I)\n",
    "q_I_m_2 = q_I_2.subs(p_I, p_I_m_2[0])\n",
    "prof_I_m_2 = p_I_m_2[0]*q_I_m_2\n",
    "\n",
    "print(p_I_m_2[0], q_I_m_2, prof_I_m_2)"
   ]
  },
  {
   "cell_type": "code",
   "execution_count": 148,
   "metadata": {},
   "outputs": [
    {
     "name": "stdout",
     "output_type": "stream",
     "text": [
      "0.265540708038096 0.305470392841061 0.0811148243996907 - E\n"
     ]
    }
   ],
   "source": [
    "# Now, we always know how the entrant will respond.\n",
    "print(p_e_m.subs(p_I, p_I_m_2[0]), q_e_m.subs(p_I, p_I_m_2[0]), prof_e.subs([(p_e, p_e_m.subs(p_I, p_I_m_2[0])), (p_I, p_I_m_2[0])]))"
   ]
  },
  {
   "cell_type": "code",
   "execution_count": 16,
   "metadata": {},
   "outputs": [
    {
     "data": {
      "text/latex": [
       "$\\displaystyle p_{I} \\left(1 - \\frac{p_{I}^{2}}{2}\\right) - 0.374$"
      ],
      "text/plain": [
       "p_I*(1 - p_I**2/2) - 0.374"
      ]
     },
     "execution_count": 16,
     "metadata": {},
     "output_type": "execute_result"
    }
   ],
   "source": [
    "t = (p_I*sp.solve(demand, q_I)[0] - 0.374)\n",
    "t"
   ]
  },
  {
   "cell_type": "code",
   "execution_count": 18,
   "metadata": {},
   "outputs": [
    {
     "data": {
      "text/plain": [
       "[]"
      ]
     },
     "execution_count": 18,
     "metadata": {},
     "output_type": "execute_result"
    }
   ],
   "source": [
    "sp.solve(-p_I**3 + 2*p_I - 0.748, p_I)"
   ]
  },
  {
   "cell_type": "code",
   "execution_count": 17,
   "metadata": {},
   "outputs": [
    {
     "data": {
      "text/plain": [
       "[]"
      ]
     },
     "execution_count": 17,
     "metadata": {},
     "output_type": "execute_result"
    }
   ],
   "source": [
    "sp.solve(t, p_I)"
   ]
  },
  {
   "cell_type": "code",
   "execution_count": 174,
   "metadata": {},
   "outputs": [
    {
     "data": {
      "text/latex": [
       "$\\displaystyle 0.3747910355$"
      ],
      "text/plain": [
       "0.374791035500000"
      ]
     },
     "execution_count": 174,
     "metadata": {},
     "output_type": "execute_result"
    }
   ],
   "source": [
    "(p_I*sp.solve(demand, q_I)[0]).subs(p_I, 0.409)"
   ]
  },
  {
   "cell_type": "code",
   "execution_count": 27,
   "metadata": {},
   "outputs": [
    {
     "data": {
      "text/latex": [
       "$\\displaystyle 0.0326305725323367 - E$"
      ],
      "text/plain": [
       "0.0326305725323367 - E"
      ]
     },
     "execution_count": 27,
     "metadata": {},
     "output_type": "execute_result"
    }
   ],
   "source": [
    "(prof_e.subs(p_e, p_e_m)).subs(p_I, 0.401)"
   ]
  },
  {
   "cell_type": "code",
   "execution_count": 25,
   "metadata": {},
   "outputs": [
    {
     "data": {
      "text/latex": [
       "$\\displaystyle - E + \\left(- \\frac{p_{I}}{3} + \\frac{\\sqrt{p_{I}^{2} - p_{I} + 1}}{3} + \\frac{2}{3}\\right) \\left(\\frac{p_{I}}{3} - \\frac{\\sqrt{p_{I}^{2} - p_{I} + 1}}{3} + \\frac{1}{3}\\right) \\left(\\frac{2 p_{I}}{3} + \\frac{\\sqrt{p_{I}^{2} - p_{I} + 1}}{3} - \\frac{1}{3}\\right)$"
      ],
      "text/plain": [
       "-E + (-p_I/3 + sqrt(p_I**2 - p_I + 1)/3 + 2/3)*(p_I/3 - sqrt(p_I**2 - p_I + 1)/3 + 1/3)*(2*p_I/3 + sqrt(p_I**2 - p_I + 1)/3 - 1/3)"
      ]
     },
     "execution_count": 25,
     "metadata": {},
     "output_type": "execute_result"
    }
   ],
   "source": [
    "prof_e.subs(p_e, p_e_m)"
   ]
  },
  {
   "cell_type": "code",
   "execution_count": 26,
   "metadata": {},
   "outputs": [
    {
     "data": {
      "text/latex": [
       "$\\displaystyle \\frac{p_{I}}{3} - \\frac{\\sqrt{p_{I}^{2} - p_{I} + 1}}{3} + \\frac{1}{3}$"
      ],
      "text/plain": [
       "p_I/3 - sqrt(p_I**2 - p_I + 1)/3 + 1/3"
      ]
     },
     "execution_count": 26,
     "metadata": {},
     "output_type": "execute_result"
    }
   ],
   "source": [
    "p_e_m.subs(p_I, 0.401)"
   ]
  },
  {
   "cell_type": "code",
   "execution_count": null,
   "metadata": {},
   "outputs": [],
   "source": []
  }
 ],
 "metadata": {
  "kernelspec": {
   "display_name": "base",
   "language": "python",
   "name": "python3"
  },
  "language_info": {
   "codemirror_mode": {
    "name": "ipython",
    "version": 3
   },
   "file_extension": ".py",
   "mimetype": "text/x-python",
   "name": "python",
   "nbconvert_exporter": "python",
   "pygments_lexer": "ipython3",
   "version": "3.9.13"
  },
  "orig_nbformat": 4,
  "vscode": {
   "interpreter": {
    "hash": "9e31117a1847b01258c2b1d2d9a0bafd8d45f8df89f78d88db28ebb4a817b2d1"
   }
  }
 },
 "nbformat": 4,
 "nbformat_minor": 2
}
